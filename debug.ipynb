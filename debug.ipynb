{
 "cells": [
  {
   "cell_type": "code",
   "execution_count": 1,
   "id": "09fde1c5",
   "metadata": {
    "vscode": {
     "languageId": "plaintext"
    }
   },
   "outputs": [
    {
     "name": "stderr",
     "output_type": "stream",
     "text": [
      "20:26:16 - INFO - Welcome to Easy Apply Bot\n",
      "20:26:16 - INFO - current directory is : /Users/vibrantceo/easy-apply-bot\n",
      "20:26:16 - INFO - 3 jobIDs found\n",
      "20:26:16 - INFO - Logging in.....Please wait :)  \n"
     ]
    },
    {
     "name": "stdout",
     "output_type": "stream",
     "text": [
      "Login successful.\n"
     ]
    }
   ],
   "source": [
    "# create apply bot\n",
    "\n",
    "from __future__ import annotations\n",
    "import logging\n",
    "import yaml\n",
    "from EasyApplyBot import EasyApplyBot\n",
    "\n",
    "log = logging.getLogger(__name__)\n",
    "\n",
    "if __name__ == '__main__':\n",
    "\n",
    "    with open(\"config.yaml\", 'r') as stream:\n",
    "        try:\n",
    "            parameters = yaml.safe_load(stream)\n",
    "        except yaml.YAMLError as exc:\n",
    "            raise exc\n",
    "\n",
    "    assert len(parameters['positions']) > 0\n",
    "    assert len(parameters['locations']) > 0\n",
    "    assert parameters['username'] is not None\n",
    "    assert parameters['password'] is not None\n",
    "    assert parameters['phone_number'] is not None\n",
    "\n",
    "    if 'uploads' in parameters.keys() and type(parameters['uploads']) == list:\n",
    "        raise Exception(\"uploads read from the config file appear to be in list format\" +\n",
    "                        \" while should be dict. Try removing '-' from line containing\" +\n",
    "                        \" filename & path\")\n",
    "\n",
    "    log.info({k: parameters[k] for k in parameters.keys() if k not in ['username', 'password']})\n",
    "\n",
    "    output_filename: list = [f for f in parameters.get('output_filename', ['output.csv']) if f != None]\n",
    "    output_filename: list = output_filename[0] if len(output_filename) > 0 else 'output.csv'\n",
    "    blacklist = parameters.get('blacklist', [])\n",
    "    blackListTitles = parameters.get('blackListTitles', [])\n",
    "\n",
    "    uploads = {} if parameters.get('uploads', {}) == None else parameters.get('uploads', {})\n",
    "    for key in uploads.keys():\n",
    "        assert uploads[key] != None\n",
    "\n",
    "    bot = EasyApplyBot(parameters['username'],\n",
    "                       parameters['password'],\n",
    "                       parameters['phone_number'],\n",
    "                       uploads=uploads,\n",
    "                       filename=output_filename,\n",
    "                       blacklist=blacklist,\n",
    "                       blackListTitles=blackListTitles\n",
    "                       )\n",
    "\n",
    "    locations: list = [l for l in parameters['locations'] if l != None]\n",
    "    positions: list = [p for p in parameters['positions'] if p != None]"
   ]
  },
  {
   "cell_type": "code",
   "execution_count": 2,
   "id": "3c953d2d",
   "metadata": {
    "vscode": {
     "languageId": "plaintext"
    }
   },
   "outputs": [
    {
     "name": "stderr",
     "output_type": "stream",
     "text": [
      "20:27:21 - INFO - Applying to Nodejs: New York\n",
      "20:27:21 - INFO - Looking for jobs.. Please wait..\n",
      "20:27:33 - INFO - Lock avoided.\n",
      "20:27:53 - INFO - Looking for jobs.. Please wait..\n",
      "20:27:53 - INFO - 599.0 minutes left in this search\n",
      "20:27:53 - DEBUG - Sleeping for 3.7\n",
      "20:28:35 - INFO - Clicking the EASY apply button\n"
     ]
    },
    {
     "name": "stdout",
     "output_type": "stream",
     "text": [
      "buttons found:  [<selenium.webdriver.remote.webelement.WebElement (session=\"ae47fc6ab19d5a1bc24e457b9a4cf7f9\", element=\"f.0FF2E916D9BE6214F83CFADF57326DFC.d.4E12BC563B490E0BBD8979B49FCF7EAF.e.406\")>, <selenium.webdriver.remote.webelement.WebElement (session=\"ae47fc6ab19d5a1bc24e457b9a4cf7f9\", element=\"f.0FF2E916D9BE6214F83CFADF57326DFC.d.4E12BC563B490E0BBD8979B49FCF7EAF.e.407\")>]\n"
     ]
    },
    {
     "name": "stderr",
     "output_type": "stream",
     "text": [
      "20:28:48 - INFO - upload locator is present: True\n",
      "20:28:48 - INFO - input_buttons: [<selenium.webdriver.remote.webelement.WebElement (session=\"ae47fc6ab19d5a1bc24e457b9a4cf7f9\", element=\"f.0FF2E916D9BE6214F83CFADF57326DFC.d.4E12BC563B490E0BBD8979B49FCF7EAF.e.444\")>]\n",
      "20:28:48 - INFO - descendant_input: <selenium.webdriver.remote.webelement.WebElement (session=\"ae47fc6ab19d5a1bc24e457b9a4cf7f9\", element=\"f.0FF2E916D9BE6214F83CFADF57326DFC.d.4E12BC563B490E0BBD8979B49FCF7EAF.e.443\")>\n",
      "20:28:55 - INFO - Found 0 questions\n"
     ]
    },
    {
     "name": "stdout",
     "output_type": "stream",
     "text": [
      "button found: ('css selector', \"button[aria-label='Continue to next step']\")\n",
      "Clicked button ('css selector', \"button[aria-label='Continue to next step']\")\n",
      "break at ('css selector', \"button[aria-label='Continue to next step']\")\n"
     ]
    },
    {
     "name": "stderr",
     "output_type": "stream",
     "text": [
      "20:29:00 - INFO - upload locator is present: False\n",
      "20:29:02 - INFO - Found 6 questions\n",
      "20:29:02 - INFO - Answering question: Yes\n",
      "20:29:02 - INFO - Input type: input\n",
      "20:29:07 - INFO - Answering question: How many years of work experience do you have with React Native?\n",
      "20:29:07 - INFO - Input type: input\n",
      "20:29:12 - INFO - Answering question: How many years of work experience do you have with Amazon Web Services (AWS)?\n",
      "20:29:12 - INFO - Input type: input\n",
      "20:29:18 - INFO - Answering question: How many years of work experience do you have with FinTech?\n",
      "20:29:18 - INFO - Input type: input\n",
      "20:29:23 - INFO - Answering question: Yes\n",
      "20:29:23 - INFO - Input type: input\n",
      "20:29:28 - INFO - Answering question: How many years of Software Development experience do you currently have?\n",
      "20:29:28 - INFO - Input type: input\n"
     ]
    },
    {
     "name": "stdout",
     "output_type": "stream",
     "text": [
      "button found: ('css selector', \"button[aria-label='Continue to next step']\")\n",
      "Clicked button ('css selector', \"button[aria-label='Continue to next step']\")\n",
      "break at ('css selector', \"button[aria-label='Continue to next step']\")\n"
     ]
    },
    {
     "name": "stderr",
     "output_type": "stream",
     "text": [
      "20:29:38 - INFO - upload locator is present: False\n",
      "20:29:40 - INFO - Found 2 questions\n",
      "20:29:40 - INFO - Answering question: Yes\n",
      "20:29:40 - INFO - Input type: input\n",
      "20:29:45 - INFO - Answering question: Yes\n",
      "20:29:45 - INFO - Input type: input\n",
      "20:29:51 - INFO - Found 2 questions\n",
      "20:29:51 - INFO - Answering question: Yes\n",
      "20:29:51 - INFO - Input type: input\n",
      "20:29:57 - INFO - Answering question: Yes\n",
      "20:29:57 - INFO - Input type: input\n"
     ]
    },
    {
     "name": "stdout",
     "output_type": "stream",
     "text": [
      "button found: ('css selector', \"button[aria-label='Review your application']\")\n",
      "Clicked button ('css selector', \"button[aria-label='Review your application']\")\n",
      "break at ('css selector', \"button[aria-label='Review your application']\")\n"
     ]
    },
    {
     "name": "stderr",
     "output_type": "stream",
     "text": [
      "20:30:07 - INFO - upload locator is present: False\n",
      "20:30:09 - INFO - Found 0 questions\n",
      "20:30:11 - INFO - Found 0 questions\n",
      "20:30:13 - INFO - Found 0 questions\n"
     ]
    },
    {
     "name": "stdout",
     "output_type": "stream",
     "text": [
      "button found: ('css selector', \"label[for='follow-company-checkbox']\")\n",
      "Clicked button ('css selector', \"label[for='follow-company-checkbox']\")\n"
     ]
    },
    {
     "name": "stderr",
     "output_type": "stream",
     "text": [
      "20:30:16 - INFO - Found 0 questions\n"
     ]
    },
    {
     "name": "stdout",
     "output_type": "stream",
     "text": [
      "button found: ('css selector', \"button[aria-label='Submit application']\")\n",
      "Clicked button ('css selector', \"button[aria-label='Submit application']\")\n"
     ]
    },
    {
     "name": "stderr",
     "output_type": "stream",
     "text": [
      "20:30:18 - INFO - Application Submitted\n",
      "20:30:18 - INFO - \n",
      "Position 1:\n",
      " (12) Senior Software Engineer | VetraFi | LinkedIn \n",
      " * has Easy Apply Button \n",
      "\n"
     ]
    },
    {
     "name": "stdout",
     "output_type": "stream",
     "text": [
      "break at ('css selector', \"button[aria-label='Submit application']\")\n"
     ]
    },
    {
     "name": "stderr",
     "output_type": "stream",
     "text": [
      "20:30:32 - INFO - Clicking the EASY apply button\n"
     ]
    },
    {
     "name": "stdout",
     "output_type": "stream",
     "text": [
      "buttons found:  [<selenium.webdriver.remote.webelement.WebElement (session=\"ae47fc6ab19d5a1bc24e457b9a4cf7f9\", element=\"f.0FF2E916D9BE6214F83CFADF57326DFC.d.F6998272A1260B47B1A618152BB5705B.e.573\")>, <selenium.webdriver.remote.webelement.WebElement (session=\"ae47fc6ab19d5a1bc24e457b9a4cf7f9\", element=\"f.0FF2E916D9BE6214F83CFADF57326DFC.d.F6998272A1260B47B1A618152BB5705B.e.574\")>]\n"
     ]
    },
    {
     "name": "stderr",
     "output_type": "stream",
     "text": [
      "20:30:44 - INFO - upload locator is present: True\n",
      "20:30:44 - INFO - input_buttons: [<selenium.webdriver.remote.webelement.WebElement (session=\"ae47fc6ab19d5a1bc24e457b9a4cf7f9\", element=\"f.0FF2E916D9BE6214F83CFADF57326DFC.d.F6998272A1260B47B1A618152BB5705B.e.607\")>]\n",
      "20:30:44 - INFO - descendant_input: <selenium.webdriver.remote.webelement.WebElement (session=\"ae47fc6ab19d5a1bc24e457b9a4cf7f9\", element=\"f.0FF2E916D9BE6214F83CFADF57326DFC.d.F6998272A1260B47B1A618152BB5705B.e.606\")>\n",
      "20:30:52 - INFO - Found 0 questions\n"
     ]
    },
    {
     "name": "stdout",
     "output_type": "stream",
     "text": [
      "button found: ('css selector', \"button[aria-label='Continue to next step']\")\n",
      "Clicked button ('css selector', \"button[aria-label='Continue to next step']\")\n",
      "break at ('css selector', \"button[aria-label='Continue to next step']\")\n"
     ]
    },
    {
     "name": "stderr",
     "output_type": "stream",
     "text": [
      "20:30:56 - INFO - upload locator is present: False\n",
      "20:30:58 - INFO - Found 3 questions\n",
      "20:30:58 - INFO - Answering question: How many years of work experience do you have with Software Engineers?\n",
      "20:30:58 - INFO - Input type: input\n",
      "20:31:03 - INFO - Answering question: Yes\n",
      "20:31:03 - INFO - Input type: input\n",
      "20:31:08 - INFO - Answering question: Do you live in New York City and are able to work from our HQ in NYC 5 days/week?\n",
      "Do you live in New York City and are able to work from our HQ in NYC 5 days/week?\n",
      "20:31:08 - INFO - Input type: select\n"
     ]
    },
    {
     "name": "stdout",
     "output_type": "stream",
     "text": [
      "button found: ('css selector', \"button[aria-label='Continue to next step']\")\n",
      "Clicked button ('css selector', \"button[aria-label='Continue to next step']\")\n",
      "break at ('css selector', \"button[aria-label='Continue to next step']\")\n"
     ]
    },
    {
     "name": "stderr",
     "output_type": "stream",
     "text": [
      "20:31:17 - INFO - upload locator is present: False\n",
      "20:31:20 - INFO - Found 2 questions\n",
      "20:31:20 - INFO - Answering question: Yes\n",
      "20:31:20 - INFO - Input type: input\n",
      "20:31:24 - INFO - Answering question: Yes\n",
      "20:31:24 - INFO - Input type: input\n",
      "20:31:32 - INFO - Found 2 questions\n",
      "20:31:32 - INFO - Answering question: Yes\n",
      "20:31:32 - INFO - Input type: input\n",
      "20:31:38 - INFO - Answering question: Yes\n",
      "20:31:38 - INFO - Input type: input\n"
     ]
    },
    {
     "name": "stdout",
     "output_type": "stream",
     "text": [
      "button found: ('css selector', \"button[aria-label='Review your application']\")\n",
      "Clicked button ('css selector', \"button[aria-label='Review your application']\")\n",
      "break at ('css selector', \"button[aria-label='Review your application']\")\n"
     ]
    },
    {
     "name": "stderr",
     "output_type": "stream",
     "text": [
      "20:31:47 - INFO - upload locator is present: False\n",
      "20:31:49 - INFO - Found 0 questions\n",
      "20:31:51 - INFO - Found 0 questions\n",
      "20:31:53 - INFO - Found 0 questions\n"
     ]
    },
    {
     "name": "stdout",
     "output_type": "stream",
     "text": [
      "button found: ('css selector', \"label[for='follow-company-checkbox']\")\n",
      "Clicked button ('css selector', \"label[for='follow-company-checkbox']\")\n"
     ]
    },
    {
     "name": "stderr",
     "output_type": "stream",
     "text": [
      "20:31:57 - INFO - Found 0 questions\n"
     ]
    },
    {
     "name": "stdout",
     "output_type": "stream",
     "text": [
      "button found: ('css selector', \"button[aria-label='Submit application']\")\n",
      "Clicked button ('css selector', \"button[aria-label='Submit application']\")\n"
     ]
    },
    {
     "name": "stderr",
     "output_type": "stream",
     "text": [
      "20:32:00 - INFO - Application Submitted\n",
      "20:32:00 - INFO - \n",
      "Position 2:\n",
      " (12) Senior Software Engineer | Agentio | LinkedIn \n",
      " * has Easy Apply Button \n",
      "\n"
     ]
    },
    {
     "name": "stdout",
     "output_type": "stream",
     "text": [
      "break at ('css selector', \"button[aria-label='Submit application']\")\n"
     ]
    },
    {
     "name": "stderr",
     "output_type": "stream",
     "text": [
      "20:32:15 - INFO - The button does not exist.\n",
      "20:32:15 - INFO - \n",
      "Position 3:\n",
      " (12) Senior Software Engineer | Agentio | LinkedIn \n",
      " * Doesn't have Easy Apply Button \n",
      "\n"
     ]
    },
    {
     "name": "stdout",
     "output_type": "stream",
     "text": [
      "buttons found:  []\n"
     ]
    },
    {
     "name": "stderr",
     "output_type": "stream",
     "text": [
      "20:32:29 - INFO - Clicking the EASY apply button\n"
     ]
    },
    {
     "name": "stdout",
     "output_type": "stream",
     "text": [
      "buttons found:  [<selenium.webdriver.remote.webelement.WebElement (session=\"ae47fc6ab19d5a1bc24e457b9a4cf7f9\", element=\"f.0FF2E916D9BE6214F83CFADF57326DFC.d.406917B81E5BF47A3C09AEA954611409.e.805\")>, <selenium.webdriver.remote.webelement.WebElement (session=\"ae47fc6ab19d5a1bc24e457b9a4cf7f9\", element=\"f.0FF2E916D9BE6214F83CFADF57326DFC.d.406917B81E5BF47A3C09AEA954611409.e.806\")>]\n"
     ]
    },
    {
     "ename": "KeyboardInterrupt",
     "evalue": "",
     "output_type": "error",
     "traceback": [
      "\u001b[0;31m---------------------------------------------------------------------------\u001b[0m",
      "\u001b[0;31mKeyboardInterrupt\u001b[0m                         Traceback (most recent call last)",
      "Cell \u001b[0;32mIn[2], line 2\u001b[0m\n\u001b[1;32m      1\u001b[0m \u001b[38;5;66;03m# start apply\u001b[39;00m\n\u001b[0;32m----> 2\u001b[0m \u001b[43mbot\u001b[49m\u001b[38;5;241;43m.\u001b[39;49m\u001b[43mstart_apply\u001b[49m\u001b[43m(\u001b[49m\u001b[43mpositions\u001b[49m\u001b[43m,\u001b[49m\u001b[43m \u001b[49m\u001b[43mlocations\u001b[49m\u001b[43m)\u001b[49m\n",
      "File \u001b[0;32m~/easy-apply-bot/EasyApplyBot.py:165\u001b[0m, in \u001b[0;36mEasyApplyBot.start_apply\u001b[0;34m(self, positions, locations)\u001b[0m\n\u001b[1;32m    163\u001b[0m     log\u001b[38;5;241m.\u001b[39minfo(\u001b[38;5;124mf\u001b[39m\u001b[38;5;124m\"\u001b[39m\u001b[38;5;124mApplying to \u001b[39m\u001b[38;5;132;01m{\u001b[39;00mposition\u001b[38;5;132;01m}\u001b[39;00m\u001b[38;5;124m: \u001b[39m\u001b[38;5;132;01m{\u001b[39;00mlocation\u001b[38;5;132;01m}\u001b[39;00m\u001b[38;5;124m\"\u001b[39m)\n\u001b[1;32m    164\u001b[0m     location \u001b[38;5;241m=\u001b[39m \u001b[38;5;124m\"\u001b[39m\u001b[38;5;124m&location=\u001b[39m\u001b[38;5;124m\"\u001b[39m \u001b[38;5;241m+\u001b[39m location\n\u001b[0;32m--> 165\u001b[0m     \u001b[38;5;28;43mself\u001b[39;49m\u001b[38;5;241;43m.\u001b[39;49m\u001b[43mapplications_loop\u001b[49m\u001b[43m(\u001b[49m\u001b[43mposition\u001b[49m\u001b[43m,\u001b[49m\u001b[43m \u001b[49m\u001b[43mlocation\u001b[49m\u001b[43m)\u001b[49m\n\u001b[1;32m    166\u001b[0m \u001b[38;5;28;01mif\u001b[39;00m \u001b[38;5;28mlen\u001b[39m(combos) \u001b[38;5;241m>\u001b[39m \u001b[38;5;241m500\u001b[39m:\n\u001b[1;32m    167\u001b[0m     \u001b[38;5;28;01mbreak\u001b[39;00m\n",
      "File \u001b[0;32m~/easy-apply-bot/EasyApplyBot.py:261\u001b[0m, in \u001b[0;36mEasyApplyBot.applications_loop\u001b[0;34m(self, position, location)\u001b[0m\n\u001b[1;32m    259\u001b[0m button\u001b[38;5;241m.\u001b[39mclick()\n\u001b[1;32m    260\u001b[0m time\u001b[38;5;241m.\u001b[39msleep(\u001b[38;5;241m3\u001b[39m)\n\u001b[0;32m--> 261\u001b[0m \u001b[38;5;28;43mself\u001b[39;49m\u001b[38;5;241;43m.\u001b[39;49m\u001b[43mfill_out_phone_number\u001b[49m\u001b[43m(\u001b[49m\u001b[43m)\u001b[49m\n\u001b[1;32m    262\u001b[0m result: \u001b[38;5;28mbool\u001b[39m \u001b[38;5;241m=\u001b[39m \u001b[38;5;28mself\u001b[39m\u001b[38;5;241m.\u001b[39msend_resume()\n\u001b[1;32m    263\u001b[0m count_application \u001b[38;5;241m+\u001b[39m\u001b[38;5;241m=\u001b[39m \u001b[38;5;241m1\u001b[39m\n",
      "File \u001b[0;32m~/easy-apply-bot/EasyApplyBot.py:373\u001b[0m, in \u001b[0;36mEasyApplyBot.fill_out_phone_number\u001b[0;34m(self)\u001b[0m\n\u001b[1;32m    371\u001b[0m     \u001b[38;5;28;01mif\u001b[39;00m button:\n\u001b[1;32m    372\u001b[0m         button\u001b[38;5;241m.\u001b[39mclick()\n\u001b[0;32m--> 373\u001b[0m         \u001b[43mtime\u001b[49m\u001b[38;5;241;43m.\u001b[39;49m\u001b[43msleep\u001b[49m\u001b[43m(\u001b[49m\u001b[43mrandom\u001b[49m\u001b[38;5;241;43m.\u001b[39;49m\u001b[43muniform\u001b[49m\u001b[43m(\u001b[49m\u001b[38;5;241;43m1.5\u001b[39;49m\u001b[43m,\u001b[49m\u001b[43m \u001b[49m\u001b[38;5;241;43m2.5\u001b[39;49m\u001b[43m)\u001b[49m\u001b[43m)\u001b[49m\n\u001b[1;32m    374\u001b[0m         \u001b[38;5;66;03m# if i in (3, 4):\u001b[39;00m\n\u001b[1;32m    375\u001b[0m         \u001b[38;5;66;03m#     submitted = True\u001b[39;00m\n\u001b[1;32m    376\u001b[0m         \u001b[38;5;66;03m# if i != 2:\u001b[39;00m\n\u001b[0;32m   (...)\u001b[0m\n\u001b[1;32m    380\u001b[0m \n\u001b[1;32m    381\u001b[0m \u001b[38;5;28;01melse\u001b[39;00m:\n\u001b[1;32m    382\u001b[0m     log\u001b[38;5;241m.\u001b[39mdebug(\u001b[38;5;124mf\u001b[39m\u001b[38;5;124m\"\u001b[39m\u001b[38;5;124mCould not find phone number field\u001b[39m\u001b[38;5;124m\"\u001b[39m)\n",
      "\u001b[0;31mKeyboardInterrupt\u001b[0m: "
     ]
    }
   ],
   "source": [
    "# start apply\n",
    "bot.start_apply(positions, locations)"
   ]
  },
  {
   "cell_type": "code",
   "execution_count": null,
   "id": "71ebb5a4",
   "metadata": {
    "vscode": {
     "languageId": "plaintext"
    }
   },
   "outputs": [],
   "source": [
    "# fill phone number\n",
    "bot.fill_out_phone_number()"
   ]
  },
  {
   "cell_type": "code",
   "execution_count": null,
   "id": "17b7afc0",
   "metadata": {
    "vscode": {
     "languageId": "plaintext"
    }
   },
   "outputs": [],
   "source": [
    "# send resume\n",
    "bot.send_resume()"
   ]
  },
  {
   "cell_type": "code",
   "execution_count": null,
   "id": "f828c972",
   "metadata": {
    "vscode": {
     "languageId": "plaintext"
    }
   },
   "outputs": [],
   "source": [
    "# answer questions\n",
    "bot.answer_questions()"
   ]
  },
  {
   "cell_type": "code",
   "execution_count": null,
   "id": "948b5a49-8d84-46c9-a3a8-cd0438827078",
   "metadata": {},
   "outputs": [],
   "source": []
  }
 ],
 "metadata": {
  "kernelspec": {
   "display_name": "Python 3 (ipykernel)",
   "language": "python",
   "name": "python3"
  },
  "language_info": {
   "codemirror_mode": {
    "name": "ipython",
    "version": 3
   },
   "file_extension": ".py",
   "mimetype": "text/x-python",
   "name": "python",
   "nbconvert_exporter": "python",
   "pygments_lexer": "ipython3",
   "version": "3.11.6"
  }
 },
 "nbformat": 4,
 "nbformat_minor": 5
}
